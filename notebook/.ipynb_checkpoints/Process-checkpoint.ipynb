{
 "cells": [
  {
   "cell_type": "markdown",
   "id": "01de673f",
   "metadata": {},
   "source": [
    "---\n",
    "* title: \"Fitbit Data Analysis Processing\"\n",
    "* author: \"Alvin Aw Yong\"\n",
    "* date: \"2024-11-04\"\n",
    "* output: html_document\n",
    "\n",
    "--- \n",
    "### Process\n",
    "\n",
    "#### Setup\n",
    "----"
   ]
  },
  {
   "cell_type": "code",
   "execution_count": 6,
   "id": "635eb217",
   "metadata": {},
   "outputs": [
    {
     "name": "stderr",
     "output_type": "stream",
     "text": [
      "Loading required package: dplyr\n",
      "\n",
      "\n",
      "Attaching package: ‘dplyr’\n",
      "\n",
      "\n",
      "The following objects are masked from ‘package:stats’:\n",
      "\n",
      "    filter, lag\n",
      "\n",
      "\n",
      "The following objects are masked from ‘package:base’:\n",
      "\n",
      "    intersect, setdiff, setequal, union\n",
      "\n",
      "\n",
      "Loading required package: ggplot2\n",
      "\n",
      "Loading required package: tidyverse\n",
      "\n",
      "── \u001b[1mAttaching core tidyverse packages\u001b[22m ──────────────────────────────────── tidyverse 2.0.0 ──\n",
      "\u001b[32m✔\u001b[39m \u001b[34mforcats  \u001b[39m 1.0.0     \u001b[32m✔\u001b[39m \u001b[34mstringr  \u001b[39m 1.5.1\n",
      "\u001b[32m✔\u001b[39m \u001b[34mlubridate\u001b[39m 1.9.3     \u001b[32m✔\u001b[39m \u001b[34mtibble   \u001b[39m 3.2.1\n",
      "\u001b[32m✔\u001b[39m \u001b[34mpurrr    \u001b[39m 1.0.2     \u001b[32m✔\u001b[39m \u001b[34mtidyr    \u001b[39m 1.3.1\n",
      "\u001b[32m✔\u001b[39m \u001b[34mreadr    \u001b[39m 2.1.5     \n",
      "── \u001b[1mConflicts\u001b[22m ────────────────────────────────────────────────────── tidyverse_conflicts() ──\n",
      "\u001b[31m✖\u001b[39m \u001b[34mdplyr\u001b[39m::\u001b[32mfilter()\u001b[39m masks \u001b[34mstats\u001b[39m::filter()\n",
      "\u001b[31m✖\u001b[39m \u001b[34mdplyr\u001b[39m::\u001b[32mlag()\u001b[39m    masks \u001b[34mstats\u001b[39m::lag()\n",
      "\u001b[36mℹ\u001b[39m Use the conflicted package (\u001b[3m\u001b[34m<http://conflicted.r-lib.org/>\u001b[39m\u001b[23m) to force all conflicts to become errors\n",
      "Loading required package: scales\n",
      "\n",
      "\n",
      "Attaching package: ‘scales’\n",
      "\n",
      "\n",
      "The following object is masked from ‘package:purrr’:\n",
      "\n",
      "    discard\n",
      "\n",
      "\n",
      "The following object is masked from ‘package:readr’:\n",
      "\n",
      "    col_factor\n",
      "\n",
      "\n"
     ]
    }
   ],
   "source": [
    "# Install necessary packages if not already installed\n",
    "if (!require(dplyr)) install.packages(\"dplyr\")\n",
    "if (!require(ggplot2)) install.packages(\"ggplot2\")\n",
    "if (!require(tidyverse)) install.packages(\"tidyverse\")\n",
    "if (!require(scales)) install.packages(\"scales\")\n",
    "\n",
    "# Load libraries\n",
    "library(dplyr)\n",
    "library(ggplot2)\n",
    "library(tidyr)\n",
    "library(scales)"
   ]
  },
  {
   "cell_type": "markdown",
   "id": "9678dff5",
   "metadata": {},
   "source": [
    "----\n",
    "#### Import Data\n",
    "----"
   ]
  },
  {
   "cell_type": "code",
   "execution_count": 1,
   "id": "36cdeacb",
   "metadata": {},
   "outputs": [
    {
     "data": {
      "text/html": [
       "<dl>\n",
       "\t<dt>$daily_activity</dt>\n",
       "\t\t<dd><table class=\"dataframe\">\n",
       "<caption>A data.frame: 6 × 15</caption>\n",
       "<thead>\n",
       "\t<tr><th></th><th scope=col>Id</th><th scope=col>ActivityDate</th><th scope=col>TotalSteps</th><th scope=col>TotalDistance</th><th scope=col>TrackerDistance</th><th scope=col>LoggedActivitiesDistance</th><th scope=col>VeryActiveDistance</th><th scope=col>ModeratelyActiveDistance</th><th scope=col>LightActiveDistance</th><th scope=col>SedentaryActiveDistance</th><th scope=col>VeryActiveMinutes</th><th scope=col>FairlyActiveMinutes</th><th scope=col>LightlyActiveMinutes</th><th scope=col>SedentaryMinutes</th><th scope=col>Calories</th></tr>\n",
       "\t<tr><th></th><th scope=col>&lt;dbl&gt;</th><th scope=col>&lt;chr&gt;</th><th scope=col>&lt;int&gt;</th><th scope=col>&lt;dbl&gt;</th><th scope=col>&lt;dbl&gt;</th><th scope=col>&lt;dbl&gt;</th><th scope=col>&lt;dbl&gt;</th><th scope=col>&lt;dbl&gt;</th><th scope=col>&lt;dbl&gt;</th><th scope=col>&lt;dbl&gt;</th><th scope=col>&lt;int&gt;</th><th scope=col>&lt;int&gt;</th><th scope=col>&lt;int&gt;</th><th scope=col>&lt;int&gt;</th><th scope=col>&lt;int&gt;</th></tr>\n",
       "</thead>\n",
       "<tbody>\n",
       "\t<tr><th scope=row>1</th><td>1503960366</td><td>4/12/2016</td><td>13162</td><td>8.50</td><td>8.50</td><td>0</td><td>1.88</td><td>0.55</td><td>6.06</td><td>0</td><td>25</td><td>13</td><td>328</td><td> 728</td><td>1985</td></tr>\n",
       "\t<tr><th scope=row>2</th><td>1503960366</td><td>4/13/2016</td><td>10735</td><td>6.97</td><td>6.97</td><td>0</td><td>1.57</td><td>0.69</td><td>4.71</td><td>0</td><td>21</td><td>19</td><td>217</td><td> 776</td><td>1797</td></tr>\n",
       "\t<tr><th scope=row>3</th><td>1503960366</td><td>4/14/2016</td><td>10460</td><td>6.74</td><td>6.74</td><td>0</td><td>2.44</td><td>0.40</td><td>3.91</td><td>0</td><td>30</td><td>11</td><td>181</td><td>1218</td><td>1776</td></tr>\n",
       "\t<tr><th scope=row>4</th><td>1503960366</td><td>4/15/2016</td><td> 9762</td><td>6.28</td><td>6.28</td><td>0</td><td>2.14</td><td>1.26</td><td>2.83</td><td>0</td><td>29</td><td>34</td><td>209</td><td> 726</td><td>1745</td></tr>\n",
       "\t<tr><th scope=row>5</th><td>1503960366</td><td>4/16/2016</td><td>12669</td><td>8.16</td><td>8.16</td><td>0</td><td>2.71</td><td>0.41</td><td>5.04</td><td>0</td><td>36</td><td>10</td><td>221</td><td> 773</td><td>1863</td></tr>\n",
       "\t<tr><th scope=row>6</th><td>1503960366</td><td>4/17/2016</td><td> 9705</td><td>6.48</td><td>6.48</td><td>0</td><td>3.19</td><td>0.78</td><td>2.51</td><td>0</td><td>38</td><td>20</td><td>164</td><td> 539</td><td>1728</td></tr>\n",
       "</tbody>\n",
       "</table>\n",
       "</dd>\n",
       "\t<dt>$daily_calorie</dt>\n",
       "\t\t<dd><table class=\"dataframe\">\n",
       "<caption>A data.frame: 6 × 3</caption>\n",
       "<thead>\n",
       "\t<tr><th></th><th scope=col>Id</th><th scope=col>ActivityDay</th><th scope=col>Calories</th></tr>\n",
       "\t<tr><th></th><th scope=col>&lt;dbl&gt;</th><th scope=col>&lt;chr&gt;</th><th scope=col>&lt;int&gt;</th></tr>\n",
       "</thead>\n",
       "<tbody>\n",
       "\t<tr><th scope=row>1</th><td>1503960366</td><td>4/12/2016</td><td>1985</td></tr>\n",
       "\t<tr><th scope=row>2</th><td>1503960366</td><td>4/13/2016</td><td>1797</td></tr>\n",
       "\t<tr><th scope=row>3</th><td>1503960366</td><td>4/14/2016</td><td>1776</td></tr>\n",
       "\t<tr><th scope=row>4</th><td>1503960366</td><td>4/15/2016</td><td>1745</td></tr>\n",
       "\t<tr><th scope=row>5</th><td>1503960366</td><td>4/16/2016</td><td>1863</td></tr>\n",
       "\t<tr><th scope=row>6</th><td>1503960366</td><td>4/17/2016</td><td>1728</td></tr>\n",
       "</tbody>\n",
       "</table>\n",
       "</dd>\n",
       "\t<dt>$sleep_data</dt>\n",
       "\t\t<dd><table class=\"dataframe\">\n",
       "<caption>A data.frame: 6 × 5</caption>\n",
       "<thead>\n",
       "\t<tr><th></th><th scope=col>Id</th><th scope=col>SleepDay</th><th scope=col>TotalSleepRecords</th><th scope=col>TotalMinutesAsleep</th><th scope=col>TotalTimeInBed</th></tr>\n",
       "\t<tr><th></th><th scope=col>&lt;dbl&gt;</th><th scope=col>&lt;chr&gt;</th><th scope=col>&lt;int&gt;</th><th scope=col>&lt;int&gt;</th><th scope=col>&lt;int&gt;</th></tr>\n",
       "</thead>\n",
       "<tbody>\n",
       "\t<tr><th scope=row>1</th><td>1503960366</td><td>4/12/2016 12:00:00 AM</td><td>1</td><td>327</td><td>346</td></tr>\n",
       "\t<tr><th scope=row>2</th><td>1503960366</td><td>4/13/2016 12:00:00 AM</td><td>2</td><td>384</td><td>407</td></tr>\n",
       "\t<tr><th scope=row>3</th><td>1503960366</td><td>4/15/2016 12:00:00 AM</td><td>1</td><td>412</td><td>442</td></tr>\n",
       "\t<tr><th scope=row>4</th><td>1503960366</td><td>4/16/2016 12:00:00 AM</td><td>2</td><td>340</td><td>367</td></tr>\n",
       "\t<tr><th scope=row>5</th><td>1503960366</td><td>4/17/2016 12:00:00 AM</td><td>1</td><td>700</td><td>712</td></tr>\n",
       "\t<tr><th scope=row>6</th><td>1503960366</td><td>4/19/2016 12:00:00 AM</td><td>1</td><td>304</td><td>320</td></tr>\n",
       "</tbody>\n",
       "</table>\n",
       "</dd>\n",
       "\t<dt>$daily_step</dt>\n",
       "\t\t<dd><table class=\"dataframe\">\n",
       "<caption>A data.frame: 6 × 3</caption>\n",
       "<thead>\n",
       "\t<tr><th></th><th scope=col>Id</th><th scope=col>ActivityDay</th><th scope=col>StepTotal</th></tr>\n",
       "\t<tr><th></th><th scope=col>&lt;dbl&gt;</th><th scope=col>&lt;chr&gt;</th><th scope=col>&lt;int&gt;</th></tr>\n",
       "</thead>\n",
       "<tbody>\n",
       "\t<tr><th scope=row>1</th><td>1503960366</td><td>4/12/2016</td><td>13162</td></tr>\n",
       "\t<tr><th scope=row>2</th><td>1503960366</td><td>4/13/2016</td><td>10735</td></tr>\n",
       "\t<tr><th scope=row>3</th><td>1503960366</td><td>4/14/2016</td><td>10460</td></tr>\n",
       "\t<tr><th scope=row>4</th><td>1503960366</td><td>4/15/2016</td><td> 9762</td></tr>\n",
       "\t<tr><th scope=row>5</th><td>1503960366</td><td>4/16/2016</td><td>12669</td></tr>\n",
       "\t<tr><th scope=row>6</th><td>1503960366</td><td>4/17/2016</td><td> 9705</td></tr>\n",
       "</tbody>\n",
       "</table>\n",
       "</dd>\n",
       "\t<dt>$heart_rate</dt>\n",
       "\t\t<dd><table class=\"dataframe\">\n",
       "<caption>A data.frame: 6 × 3</caption>\n",
       "<thead>\n",
       "\t<tr><th></th><th scope=col>Id</th><th scope=col>Time</th><th scope=col>Value</th></tr>\n",
       "\t<tr><th></th><th scope=col>&lt;dbl&gt;</th><th scope=col>&lt;chr&gt;</th><th scope=col>&lt;int&gt;</th></tr>\n",
       "</thead>\n",
       "<tbody>\n",
       "\t<tr><th scope=row>1</th><td>2022484408</td><td>4/12/2016 7:21:00 AM</td><td> 97</td></tr>\n",
       "\t<tr><th scope=row>2</th><td>2022484408</td><td>4/12/2016 7:21:05 AM</td><td>102</td></tr>\n",
       "\t<tr><th scope=row>3</th><td>2022484408</td><td>4/12/2016 7:21:10 AM</td><td>105</td></tr>\n",
       "\t<tr><th scope=row>4</th><td>2022484408</td><td>4/12/2016 7:21:20 AM</td><td>103</td></tr>\n",
       "\t<tr><th scope=row>5</th><td>2022484408</td><td>4/12/2016 7:21:25 AM</td><td>101</td></tr>\n",
       "\t<tr><th scope=row>6</th><td>2022484408</td><td>4/12/2016 7:22:05 AM</td><td> 95</td></tr>\n",
       "</tbody>\n",
       "</table>\n",
       "</dd>\n",
       "\t<dt>$daily_intensity</dt>\n",
       "\t\t<dd><table class=\"dataframe\">\n",
       "<caption>A data.frame: 6 × 10</caption>\n",
       "<thead>\n",
       "\t<tr><th></th><th scope=col>Id</th><th scope=col>ActivityDay</th><th scope=col>SedentaryMinutes</th><th scope=col>LightlyActiveMinutes</th><th scope=col>FairlyActiveMinutes</th><th scope=col>VeryActiveMinutes</th><th scope=col>SedentaryActiveDistance</th><th scope=col>LightActiveDistance</th><th scope=col>ModeratelyActiveDistance</th><th scope=col>VeryActiveDistance</th></tr>\n",
       "\t<tr><th></th><th scope=col>&lt;dbl&gt;</th><th scope=col>&lt;chr&gt;</th><th scope=col>&lt;int&gt;</th><th scope=col>&lt;int&gt;</th><th scope=col>&lt;int&gt;</th><th scope=col>&lt;int&gt;</th><th scope=col>&lt;dbl&gt;</th><th scope=col>&lt;dbl&gt;</th><th scope=col>&lt;dbl&gt;</th><th scope=col>&lt;dbl&gt;</th></tr>\n",
       "</thead>\n",
       "<tbody>\n",
       "\t<tr><th scope=row>1</th><td>1503960366</td><td>4/12/2016</td><td> 728</td><td>328</td><td>13</td><td>25</td><td>0</td><td>6.06</td><td>0.55</td><td>1.88</td></tr>\n",
       "\t<tr><th scope=row>2</th><td>1503960366</td><td>4/13/2016</td><td> 776</td><td>217</td><td>19</td><td>21</td><td>0</td><td>4.71</td><td>0.69</td><td>1.57</td></tr>\n",
       "\t<tr><th scope=row>3</th><td>1503960366</td><td>4/14/2016</td><td>1218</td><td>181</td><td>11</td><td>30</td><td>0</td><td>3.91</td><td>0.40</td><td>2.44</td></tr>\n",
       "\t<tr><th scope=row>4</th><td>1503960366</td><td>4/15/2016</td><td> 726</td><td>209</td><td>34</td><td>29</td><td>0</td><td>2.83</td><td>1.26</td><td>2.14</td></tr>\n",
       "\t<tr><th scope=row>5</th><td>1503960366</td><td>4/16/2016</td><td> 773</td><td>221</td><td>10</td><td>36</td><td>0</td><td>5.04</td><td>0.41</td><td>2.71</td></tr>\n",
       "\t<tr><th scope=row>6</th><td>1503960366</td><td>4/17/2016</td><td> 539</td><td>164</td><td>20</td><td>38</td><td>0</td><td>2.51</td><td>0.78</td><td>3.19</td></tr>\n",
       "</tbody>\n",
       "</table>\n",
       "</dd>\n",
       "</dl>\n"
      ],
      "text/latex": [
       "\\begin{description}\n",
       "\\item[\\$daily\\_activity] A data.frame: 6 × 15\n",
       "\\begin{tabular}{r|lllllllllllllll}\n",
       "  & Id & ActivityDate & TotalSteps & TotalDistance & TrackerDistance & LoggedActivitiesDistance & VeryActiveDistance & ModeratelyActiveDistance & LightActiveDistance & SedentaryActiveDistance & VeryActiveMinutes & FairlyActiveMinutes & LightlyActiveMinutes & SedentaryMinutes & Calories\\\\\n",
       "  & <dbl> & <chr> & <int> & <dbl> & <dbl> & <dbl> & <dbl> & <dbl> & <dbl> & <dbl> & <int> & <int> & <int> & <int> & <int>\\\\\n",
       "\\hline\n",
       "\t1 & 1503960366 & 4/12/2016 & 13162 & 8.50 & 8.50 & 0 & 1.88 & 0.55 & 6.06 & 0 & 25 & 13 & 328 &  728 & 1985\\\\\n",
       "\t2 & 1503960366 & 4/13/2016 & 10735 & 6.97 & 6.97 & 0 & 1.57 & 0.69 & 4.71 & 0 & 21 & 19 & 217 &  776 & 1797\\\\\n",
       "\t3 & 1503960366 & 4/14/2016 & 10460 & 6.74 & 6.74 & 0 & 2.44 & 0.40 & 3.91 & 0 & 30 & 11 & 181 & 1218 & 1776\\\\\n",
       "\t4 & 1503960366 & 4/15/2016 &  9762 & 6.28 & 6.28 & 0 & 2.14 & 1.26 & 2.83 & 0 & 29 & 34 & 209 &  726 & 1745\\\\\n",
       "\t5 & 1503960366 & 4/16/2016 & 12669 & 8.16 & 8.16 & 0 & 2.71 & 0.41 & 5.04 & 0 & 36 & 10 & 221 &  773 & 1863\\\\\n",
       "\t6 & 1503960366 & 4/17/2016 &  9705 & 6.48 & 6.48 & 0 & 3.19 & 0.78 & 2.51 & 0 & 38 & 20 & 164 &  539 & 1728\\\\\n",
       "\\end{tabular}\n",
       "\n",
       "\\item[\\$daily\\_calorie] A data.frame: 6 × 3\n",
       "\\begin{tabular}{r|lll}\n",
       "  & Id & ActivityDay & Calories\\\\\n",
       "  & <dbl> & <chr> & <int>\\\\\n",
       "\\hline\n",
       "\t1 & 1503960366 & 4/12/2016 & 1985\\\\\n",
       "\t2 & 1503960366 & 4/13/2016 & 1797\\\\\n",
       "\t3 & 1503960366 & 4/14/2016 & 1776\\\\\n",
       "\t4 & 1503960366 & 4/15/2016 & 1745\\\\\n",
       "\t5 & 1503960366 & 4/16/2016 & 1863\\\\\n",
       "\t6 & 1503960366 & 4/17/2016 & 1728\\\\\n",
       "\\end{tabular}\n",
       "\n",
       "\\item[\\$sleep\\_data] A data.frame: 6 × 5\n",
       "\\begin{tabular}{r|lllll}\n",
       "  & Id & SleepDay & TotalSleepRecords & TotalMinutesAsleep & TotalTimeInBed\\\\\n",
       "  & <dbl> & <chr> & <int> & <int> & <int>\\\\\n",
       "\\hline\n",
       "\t1 & 1503960366 & 4/12/2016 12:00:00 AM & 1 & 327 & 346\\\\\n",
       "\t2 & 1503960366 & 4/13/2016 12:00:00 AM & 2 & 384 & 407\\\\\n",
       "\t3 & 1503960366 & 4/15/2016 12:00:00 AM & 1 & 412 & 442\\\\\n",
       "\t4 & 1503960366 & 4/16/2016 12:00:00 AM & 2 & 340 & 367\\\\\n",
       "\t5 & 1503960366 & 4/17/2016 12:00:00 AM & 1 & 700 & 712\\\\\n",
       "\t6 & 1503960366 & 4/19/2016 12:00:00 AM & 1 & 304 & 320\\\\\n",
       "\\end{tabular}\n",
       "\n",
       "\\item[\\$daily\\_step] A data.frame: 6 × 3\n",
       "\\begin{tabular}{r|lll}\n",
       "  & Id & ActivityDay & StepTotal\\\\\n",
       "  & <dbl> & <chr> & <int>\\\\\n",
       "\\hline\n",
       "\t1 & 1503960366 & 4/12/2016 & 13162\\\\\n",
       "\t2 & 1503960366 & 4/13/2016 & 10735\\\\\n",
       "\t3 & 1503960366 & 4/14/2016 & 10460\\\\\n",
       "\t4 & 1503960366 & 4/15/2016 &  9762\\\\\n",
       "\t5 & 1503960366 & 4/16/2016 & 12669\\\\\n",
       "\t6 & 1503960366 & 4/17/2016 &  9705\\\\\n",
       "\\end{tabular}\n",
       "\n",
       "\\item[\\$heart\\_rate] A data.frame: 6 × 3\n",
       "\\begin{tabular}{r|lll}\n",
       "  & Id & Time & Value\\\\\n",
       "  & <dbl> & <chr> & <int>\\\\\n",
       "\\hline\n",
       "\t1 & 2022484408 & 4/12/2016 7:21:00 AM &  97\\\\\n",
       "\t2 & 2022484408 & 4/12/2016 7:21:05 AM & 102\\\\\n",
       "\t3 & 2022484408 & 4/12/2016 7:21:10 AM & 105\\\\\n",
       "\t4 & 2022484408 & 4/12/2016 7:21:20 AM & 103\\\\\n",
       "\t5 & 2022484408 & 4/12/2016 7:21:25 AM & 101\\\\\n",
       "\t6 & 2022484408 & 4/12/2016 7:22:05 AM &  95\\\\\n",
       "\\end{tabular}\n",
       "\n",
       "\\item[\\$daily\\_intensity] A data.frame: 6 × 10\n",
       "\\begin{tabular}{r|llllllllll}\n",
       "  & Id & ActivityDay & SedentaryMinutes & LightlyActiveMinutes & FairlyActiveMinutes & VeryActiveMinutes & SedentaryActiveDistance & LightActiveDistance & ModeratelyActiveDistance & VeryActiveDistance\\\\\n",
       "  & <dbl> & <chr> & <int> & <int> & <int> & <int> & <dbl> & <dbl> & <dbl> & <dbl>\\\\\n",
       "\\hline\n",
       "\t1 & 1503960366 & 4/12/2016 &  728 & 328 & 13 & 25 & 0 & 6.06 & 0.55 & 1.88\\\\\n",
       "\t2 & 1503960366 & 4/13/2016 &  776 & 217 & 19 & 21 & 0 & 4.71 & 0.69 & 1.57\\\\\n",
       "\t3 & 1503960366 & 4/14/2016 & 1218 & 181 & 11 & 30 & 0 & 3.91 & 0.40 & 2.44\\\\\n",
       "\t4 & 1503960366 & 4/15/2016 &  726 & 209 & 34 & 29 & 0 & 2.83 & 1.26 & 2.14\\\\\n",
       "\t5 & 1503960366 & 4/16/2016 &  773 & 221 & 10 & 36 & 0 & 5.04 & 0.41 & 2.71\\\\\n",
       "\t6 & 1503960366 & 4/17/2016 &  539 & 164 & 20 & 38 & 0 & 2.51 & 0.78 & 3.19\\\\\n",
       "\\end{tabular}\n",
       "\n",
       "\\end{description}\n"
      ],
      "text/markdown": [
       "$daily_activity\n",
       ":   \n",
       "A data.frame: 6 × 15\n",
       "\n",
       "| <!--/--> | Id &lt;dbl&gt; | ActivityDate &lt;chr&gt; | TotalSteps &lt;int&gt; | TotalDistance &lt;dbl&gt; | TrackerDistance &lt;dbl&gt; | LoggedActivitiesDistance &lt;dbl&gt; | VeryActiveDistance &lt;dbl&gt; | ModeratelyActiveDistance &lt;dbl&gt; | LightActiveDistance &lt;dbl&gt; | SedentaryActiveDistance &lt;dbl&gt; | VeryActiveMinutes &lt;int&gt; | FairlyActiveMinutes &lt;int&gt; | LightlyActiveMinutes &lt;int&gt; | SedentaryMinutes &lt;int&gt; | Calories &lt;int&gt; |\n",
       "|---|---|---|---|---|---|---|---|---|---|---|---|---|---|---|---|\n",
       "| 1 | 1503960366 | 4/12/2016 | 13162 | 8.50 | 8.50 | 0 | 1.88 | 0.55 | 6.06 | 0 | 25 | 13 | 328 |  728 | 1985 |\n",
       "| 2 | 1503960366 | 4/13/2016 | 10735 | 6.97 | 6.97 | 0 | 1.57 | 0.69 | 4.71 | 0 | 21 | 19 | 217 |  776 | 1797 |\n",
       "| 3 | 1503960366 | 4/14/2016 | 10460 | 6.74 | 6.74 | 0 | 2.44 | 0.40 | 3.91 | 0 | 30 | 11 | 181 | 1218 | 1776 |\n",
       "| 4 | 1503960366 | 4/15/2016 |  9762 | 6.28 | 6.28 | 0 | 2.14 | 1.26 | 2.83 | 0 | 29 | 34 | 209 |  726 | 1745 |\n",
       "| 5 | 1503960366 | 4/16/2016 | 12669 | 8.16 | 8.16 | 0 | 2.71 | 0.41 | 5.04 | 0 | 36 | 10 | 221 |  773 | 1863 |\n",
       "| 6 | 1503960366 | 4/17/2016 |  9705 | 6.48 | 6.48 | 0 | 3.19 | 0.78 | 2.51 | 0 | 38 | 20 | 164 |  539 | 1728 |\n",
       "\n",
       "\n",
       "$daily_calorie\n",
       ":   \n",
       "A data.frame: 6 × 3\n",
       "\n",
       "| <!--/--> | Id &lt;dbl&gt; | ActivityDay &lt;chr&gt; | Calories &lt;int&gt; |\n",
       "|---|---|---|---|\n",
       "| 1 | 1503960366 | 4/12/2016 | 1985 |\n",
       "| 2 | 1503960366 | 4/13/2016 | 1797 |\n",
       "| 3 | 1503960366 | 4/14/2016 | 1776 |\n",
       "| 4 | 1503960366 | 4/15/2016 | 1745 |\n",
       "| 5 | 1503960366 | 4/16/2016 | 1863 |\n",
       "| 6 | 1503960366 | 4/17/2016 | 1728 |\n",
       "\n",
       "\n",
       "$sleep_data\n",
       ":   \n",
       "A data.frame: 6 × 5\n",
       "\n",
       "| <!--/--> | Id &lt;dbl&gt; | SleepDay &lt;chr&gt; | TotalSleepRecords &lt;int&gt; | TotalMinutesAsleep &lt;int&gt; | TotalTimeInBed &lt;int&gt; |\n",
       "|---|---|---|---|---|---|\n",
       "| 1 | 1503960366 | 4/12/2016 12:00:00 AM | 1 | 327 | 346 |\n",
       "| 2 | 1503960366 | 4/13/2016 12:00:00 AM | 2 | 384 | 407 |\n",
       "| 3 | 1503960366 | 4/15/2016 12:00:00 AM | 1 | 412 | 442 |\n",
       "| 4 | 1503960366 | 4/16/2016 12:00:00 AM | 2 | 340 | 367 |\n",
       "| 5 | 1503960366 | 4/17/2016 12:00:00 AM | 1 | 700 | 712 |\n",
       "| 6 | 1503960366 | 4/19/2016 12:00:00 AM | 1 | 304 | 320 |\n",
       "\n",
       "\n",
       "$daily_step\n",
       ":   \n",
       "A data.frame: 6 × 3\n",
       "\n",
       "| <!--/--> | Id &lt;dbl&gt; | ActivityDay &lt;chr&gt; | StepTotal &lt;int&gt; |\n",
       "|---|---|---|---|\n",
       "| 1 | 1503960366 | 4/12/2016 | 13162 |\n",
       "| 2 | 1503960366 | 4/13/2016 | 10735 |\n",
       "| 3 | 1503960366 | 4/14/2016 | 10460 |\n",
       "| 4 | 1503960366 | 4/15/2016 |  9762 |\n",
       "| 5 | 1503960366 | 4/16/2016 | 12669 |\n",
       "| 6 | 1503960366 | 4/17/2016 |  9705 |\n",
       "\n",
       "\n",
       "$heart_rate\n",
       ":   \n",
       "A data.frame: 6 × 3\n",
       "\n",
       "| <!--/--> | Id &lt;dbl&gt; | Time &lt;chr&gt; | Value &lt;int&gt; |\n",
       "|---|---|---|---|\n",
       "| 1 | 2022484408 | 4/12/2016 7:21:00 AM |  97 |\n",
       "| 2 | 2022484408 | 4/12/2016 7:21:05 AM | 102 |\n",
       "| 3 | 2022484408 | 4/12/2016 7:21:10 AM | 105 |\n",
       "| 4 | 2022484408 | 4/12/2016 7:21:20 AM | 103 |\n",
       "| 5 | 2022484408 | 4/12/2016 7:21:25 AM | 101 |\n",
       "| 6 | 2022484408 | 4/12/2016 7:22:05 AM |  95 |\n",
       "\n",
       "\n",
       "$daily_intensity\n",
       ":   \n",
       "A data.frame: 6 × 10\n",
       "\n",
       "| <!--/--> | Id &lt;dbl&gt; | ActivityDay &lt;chr&gt; | SedentaryMinutes &lt;int&gt; | LightlyActiveMinutes &lt;int&gt; | FairlyActiveMinutes &lt;int&gt; | VeryActiveMinutes &lt;int&gt; | SedentaryActiveDistance &lt;dbl&gt; | LightActiveDistance &lt;dbl&gt; | ModeratelyActiveDistance &lt;dbl&gt; | VeryActiveDistance &lt;dbl&gt; |\n",
       "|---|---|---|---|---|---|---|---|---|---|---|\n",
       "| 1 | 1503960366 | 4/12/2016 |  728 | 328 | 13 | 25 | 0 | 6.06 | 0.55 | 1.88 |\n",
       "| 2 | 1503960366 | 4/13/2016 |  776 | 217 | 19 | 21 | 0 | 4.71 | 0.69 | 1.57 |\n",
       "| 3 | 1503960366 | 4/14/2016 | 1218 | 181 | 11 | 30 | 0 | 3.91 | 0.40 | 2.44 |\n",
       "| 4 | 1503960366 | 4/15/2016 |  726 | 209 | 34 | 29 | 0 | 2.83 | 1.26 | 2.14 |\n",
       "| 5 | 1503960366 | 4/16/2016 |  773 | 221 | 10 | 36 | 0 | 5.04 | 0.41 | 2.71 |\n",
       "| 6 | 1503960366 | 4/17/2016 |  539 | 164 | 20 | 38 | 0 | 2.51 | 0.78 | 3.19 |\n",
       "\n",
       "\n",
       "\n",
       "\n"
      ],
      "text/plain": [
       "$daily_activity\n",
       "          Id ActivityDate TotalSteps TotalDistance TrackerDistance\n",
       "1 1503960366    4/12/2016      13162          8.50            8.50\n",
       "2 1503960366    4/13/2016      10735          6.97            6.97\n",
       "3 1503960366    4/14/2016      10460          6.74            6.74\n",
       "4 1503960366    4/15/2016       9762          6.28            6.28\n",
       "5 1503960366    4/16/2016      12669          8.16            8.16\n",
       "6 1503960366    4/17/2016       9705          6.48            6.48\n",
       "  LoggedActivitiesDistance VeryActiveDistance ModeratelyActiveDistance\n",
       "1                        0               1.88                     0.55\n",
       "2                        0               1.57                     0.69\n",
       "3                        0               2.44                     0.40\n",
       "4                        0               2.14                     1.26\n",
       "5                        0               2.71                     0.41\n",
       "6                        0               3.19                     0.78\n",
       "  LightActiveDistance SedentaryActiveDistance VeryActiveMinutes\n",
       "1                6.06                       0                25\n",
       "2                4.71                       0                21\n",
       "3                3.91                       0                30\n",
       "4                2.83                       0                29\n",
       "5                5.04                       0                36\n",
       "6                2.51                       0                38\n",
       "  FairlyActiveMinutes LightlyActiveMinutes SedentaryMinutes Calories\n",
       "1                  13                  328              728     1985\n",
       "2                  19                  217              776     1797\n",
       "3                  11                  181             1218     1776\n",
       "4                  34                  209              726     1745\n",
       "5                  10                  221              773     1863\n",
       "6                  20                  164              539     1728\n",
       "\n",
       "$daily_calorie\n",
       "          Id ActivityDay Calories\n",
       "1 1503960366   4/12/2016     1985\n",
       "2 1503960366   4/13/2016     1797\n",
       "3 1503960366   4/14/2016     1776\n",
       "4 1503960366   4/15/2016     1745\n",
       "5 1503960366   4/16/2016     1863\n",
       "6 1503960366   4/17/2016     1728\n",
       "\n",
       "$sleep_data\n",
       "          Id              SleepDay TotalSleepRecords TotalMinutesAsleep\n",
       "1 1503960366 4/12/2016 12:00:00 AM                 1                327\n",
       "2 1503960366 4/13/2016 12:00:00 AM                 2                384\n",
       "3 1503960366 4/15/2016 12:00:00 AM                 1                412\n",
       "4 1503960366 4/16/2016 12:00:00 AM                 2                340\n",
       "5 1503960366 4/17/2016 12:00:00 AM                 1                700\n",
       "6 1503960366 4/19/2016 12:00:00 AM                 1                304\n",
       "  TotalTimeInBed\n",
       "1            346\n",
       "2            407\n",
       "3            442\n",
       "4            367\n",
       "5            712\n",
       "6            320\n",
       "\n",
       "$daily_step\n",
       "          Id ActivityDay StepTotal\n",
       "1 1503960366   4/12/2016     13162\n",
       "2 1503960366   4/13/2016     10735\n",
       "3 1503960366   4/14/2016     10460\n",
       "4 1503960366   4/15/2016      9762\n",
       "5 1503960366   4/16/2016     12669\n",
       "6 1503960366   4/17/2016      9705\n",
       "\n",
       "$heart_rate\n",
       "          Id                 Time Value\n",
       "1 2022484408 4/12/2016 7:21:00 AM    97\n",
       "2 2022484408 4/12/2016 7:21:05 AM   102\n",
       "3 2022484408 4/12/2016 7:21:10 AM   105\n",
       "4 2022484408 4/12/2016 7:21:20 AM   103\n",
       "5 2022484408 4/12/2016 7:21:25 AM   101\n",
       "6 2022484408 4/12/2016 7:22:05 AM    95\n",
       "\n",
       "$daily_intensity\n",
       "          Id ActivityDay SedentaryMinutes LightlyActiveMinutes\n",
       "1 1503960366   4/12/2016              728                  328\n",
       "2 1503960366   4/13/2016              776                  217\n",
       "3 1503960366   4/14/2016             1218                  181\n",
       "4 1503960366   4/15/2016              726                  209\n",
       "5 1503960366   4/16/2016              773                  221\n",
       "6 1503960366   4/17/2016              539                  164\n",
       "  FairlyActiveMinutes VeryActiveMinutes SedentaryActiveDistance\n",
       "1                  13                25                       0\n",
       "2                  19                21                       0\n",
       "3                  11                30                       0\n",
       "4                  34                29                       0\n",
       "5                  10                36                       0\n",
       "6                  20                38                       0\n",
       "  LightActiveDistance ModeratelyActiveDistance VeryActiveDistance\n",
       "1                6.06                     0.55               1.88\n",
       "2                4.71                     0.69               1.57\n",
       "3                3.91                     0.40               2.44\n",
       "4                2.83                     1.26               2.14\n",
       "5                5.04                     0.41               2.71\n",
       "6                2.51                     0.78               3.19\n"
      ]
     },
     "metadata": {},
     "output_type": "display_data"
    }
   ],
   "source": [
    "# Import CSV files\n",
    "daily_activity <- read.csv(\"dailyActivity_merged.csv\")\n",
    "daily_calorie <- read.csv(\"dailyCalories_merged.csv\")\n",
    "sleep_data <- read.csv(\"sleepDay_merged.csv\")\n",
    "daily_step <- read.csv(\"dailySteps_merged.csv\")\n",
    "heart_rate <- read.csv(\"heartrate_seconds_merged.csv\")\n",
    "daily_intensity <- read.csv(\"dailyIntensities_merged.csv\")\n",
    "\n",
    "# Display the first few rows of each dataset to confirm successful import\n",
    "list(\n",
    "  daily_activity = head(daily_activity),\n",
    "  daily_calorie = head(daily_calorie),\n",
    "  sleep_data = head(sleep_data),\n",
    "  daily_step = head(daily_step),\n",
    "  heart_rate = head(heart_rate),\n",
    "  daily_intensity = head(daily_intensity)\n",
    "  \n",
    ")"
   ]
  },
  {
   "cell_type": "markdown",
   "id": "44f7ea39",
   "metadata": {},
   "source": [
    "---\n",
    "#### Inspect Data\n",
    "---"
   ]
  },
  {
   "cell_type": "code",
   "execution_count": 3,
   "id": "0eaa9c4c",
   "metadata": {},
   "outputs": [
    {
     "name": "stdout",
     "output_type": "stream",
     "text": [
      "\t\tDaily Activity\n",
      "\n"
     ]
    },
    {
     "data": {
      "text/plain": [
       "       Id            ActivityDate         TotalSteps    TotalDistance   \n",
       " Min.   :1.504e+09   Length:940         Min.   :    0   Min.   : 0.000  \n",
       " 1st Qu.:2.320e+09   Class :character   1st Qu.: 3790   1st Qu.: 2.620  \n",
       " Median :4.445e+09   Mode  :character   Median : 7406   Median : 5.245  \n",
       " Mean   :4.855e+09                      Mean   : 7638   Mean   : 5.490  \n",
       " 3rd Qu.:6.962e+09                      3rd Qu.:10727   3rd Qu.: 7.713  \n",
       " Max.   :8.878e+09                      Max.   :36019   Max.   :28.030  \n",
       " TrackerDistance  LoggedActivitiesDistance VeryActiveDistance\n",
       " Min.   : 0.000   Min.   :0.0000           Min.   : 0.000    \n",
       " 1st Qu.: 2.620   1st Qu.:0.0000           1st Qu.: 0.000    \n",
       " Median : 5.245   Median :0.0000           Median : 0.210    \n",
       " Mean   : 5.475   Mean   :0.1082           Mean   : 1.503    \n",
       " 3rd Qu.: 7.710   3rd Qu.:0.0000           3rd Qu.: 2.053    \n",
       " Max.   :28.030   Max.   :4.9421           Max.   :21.920    \n",
       " ModeratelyActiveDistance LightActiveDistance SedentaryActiveDistance\n",
       " Min.   :0.0000           Min.   : 0.000      Min.   :0.000000       \n",
       " 1st Qu.:0.0000           1st Qu.: 1.945      1st Qu.:0.000000       \n",
       " Median :0.2400           Median : 3.365      Median :0.000000       \n",
       " Mean   :0.5675           Mean   : 3.341      Mean   :0.001606       \n",
       " 3rd Qu.:0.8000           3rd Qu.: 4.782      3rd Qu.:0.000000       \n",
       " Max.   :6.4800           Max.   :10.710      Max.   :0.110000       \n",
       " VeryActiveMinutes FairlyActiveMinutes LightlyActiveMinutes SedentaryMinutes\n",
       " Min.   :  0.00    Min.   :  0.00      Min.   :  0.0        Min.   :   0.0  \n",
       " 1st Qu.:  0.00    1st Qu.:  0.00      1st Qu.:127.0        1st Qu.: 729.8  \n",
       " Median :  4.00    Median :  6.00      Median :199.0        Median :1057.5  \n",
       " Mean   : 21.16    Mean   : 13.56      Mean   :192.8        Mean   : 991.2  \n",
       " 3rd Qu.: 32.00    3rd Qu.: 19.00      3rd Qu.:264.0        3rd Qu.:1229.5  \n",
       " Max.   :210.00    Max.   :143.00      Max.   :518.0        Max.   :1440.0  \n",
       "    Calories   \n",
       " Min.   :   0  \n",
       " 1st Qu.:1828  \n",
       " Median :2134  \n",
       " Mean   :2304  \n",
       " 3rd Qu.:2793  \n",
       " Max.   :4900  "
      ]
     },
     "metadata": {},
     "output_type": "display_data"
    },
    {
     "name": "stdout",
     "output_type": "stream",
     "text": [
      "_____________________________________________________________\n",
      "\n",
      "\t\tSleep Data\n",
      "\n"
     ]
    },
    {
     "data": {
      "text/plain": [
       "       Id              SleepDay         TotalSleepRecords TotalMinutesAsleep\n",
       " Min.   :1.504e+09   Length:413         Min.   :1.000     Min.   : 58.0     \n",
       " 1st Qu.:3.977e+09   Class :character   1st Qu.:1.000     1st Qu.:361.0     \n",
       " Median :4.703e+09   Mode  :character   Median :1.000     Median :433.0     \n",
       " Mean   :5.001e+09                      Mean   :1.119     Mean   :419.5     \n",
       " 3rd Qu.:6.962e+09                      3rd Qu.:1.000     3rd Qu.:490.0     \n",
       " Max.   :8.792e+09                      Max.   :3.000     Max.   :796.0     \n",
       " TotalTimeInBed \n",
       " Min.   : 61.0  \n",
       " 1st Qu.:403.0  \n",
       " Median :463.0  \n",
       " Mean   :458.6  \n",
       " 3rd Qu.:526.0  \n",
       " Max.   :961.0  "
      ]
     },
     "metadata": {},
     "output_type": "display_data"
    },
    {
     "name": "stdout",
     "output_type": "stream",
     "text": [
      "_____________________________________________________________\n",
      "\n",
      "\t\tDaily Calorie\n",
      "\n"
     ]
    },
    {
     "data": {
      "text/plain": [
       "       Id            ActivityDay           Calories   \n",
       " Min.   :1.504e+09   Length:940         Min.   :   0  \n",
       " 1st Qu.:2.320e+09   Class :character   1st Qu.:1828  \n",
       " Median :4.445e+09   Mode  :character   Median :2134  \n",
       " Mean   :4.855e+09                      Mean   :2304  \n",
       " 3rd Qu.:6.962e+09                      3rd Qu.:2793  \n",
       " Max.   :8.878e+09                      Max.   :4900  "
      ]
     },
     "metadata": {},
     "output_type": "display_data"
    },
    {
     "name": "stdout",
     "output_type": "stream",
     "text": [
      "_____________________________________________________________\n",
      "\n",
      "\t\tDaily Intensity\n",
      "\n"
     ]
    },
    {
     "data": {
      "text/plain": [
       "       Id            ActivityDay        SedentaryMinutes LightlyActiveMinutes\n",
       " Min.   :1.504e+09   Length:940         Min.   :   0.0   Min.   :  0.0       \n",
       " 1st Qu.:2.320e+09   Class :character   1st Qu.: 729.8   1st Qu.:127.0       \n",
       " Median :4.445e+09   Mode  :character   Median :1057.5   Median :199.0       \n",
       " Mean   :4.855e+09                      Mean   : 991.2   Mean   :192.8       \n",
       " 3rd Qu.:6.962e+09                      3rd Qu.:1229.5   3rd Qu.:264.0       \n",
       " Max.   :8.878e+09                      Max.   :1440.0   Max.   :518.0       \n",
       " FairlyActiveMinutes VeryActiveMinutes SedentaryActiveDistance\n",
       " Min.   :  0.00      Min.   :  0.00    Min.   :0.000000       \n",
       " 1st Qu.:  0.00      1st Qu.:  0.00    1st Qu.:0.000000       \n",
       " Median :  6.00      Median :  4.00    Median :0.000000       \n",
       " Mean   : 13.56      Mean   : 21.16    Mean   :0.001606       \n",
       " 3rd Qu.: 19.00      3rd Qu.: 32.00    3rd Qu.:0.000000       \n",
       " Max.   :143.00      Max.   :210.00    Max.   :0.110000       \n",
       " LightActiveDistance ModeratelyActiveDistance VeryActiveDistance\n",
       " Min.   : 0.000      Min.   :0.0000           Min.   : 0.000    \n",
       " 1st Qu.: 1.945      1st Qu.:0.0000           1st Qu.: 0.000    \n",
       " Median : 3.365      Median :0.2400           Median : 0.210    \n",
       " Mean   : 3.341      Mean   :0.5675           Mean   : 1.503    \n",
       " 3rd Qu.: 4.782      3rd Qu.:0.8000           3rd Qu.: 2.053    \n",
       " Max.   :10.710      Max.   :6.4800           Max.   :21.920    "
      ]
     },
     "metadata": {},
     "output_type": "display_data"
    },
    {
     "name": "stdout",
     "output_type": "stream",
     "text": [
      "_____________________________________________________________\n",
      "\n",
      "\t\tHeart Rate\n",
      "\n"
     ]
    },
    {
     "data": {
      "text/plain": [
       "       Id                Time               Value       \n",
       " Min.   :2.022e+09   Length:2483658     Min.   : 36.00  \n",
       " 1st Qu.:4.388e+09   Class :character   1st Qu.: 63.00  \n",
       " Median :5.554e+09   Mode  :character   Median : 73.00  \n",
       " Mean   :5.514e+09                      Mean   : 77.33  \n",
       " 3rd Qu.:6.962e+09                      3rd Qu.: 88.00  \n",
       " Max.   :8.878e+09                      Max.   :203.00  "
      ]
     },
     "metadata": {},
     "output_type": "display_data"
    },
    {
     "name": "stdout",
     "output_type": "stream",
     "text": [
      "_____________________________________________________________\n",
      "\n",
      "\t\tDaily Step\n",
      "\n"
     ]
    },
    {
     "data": {
      "text/plain": [
       "       Id            ActivityDay          StepTotal    \n",
       " Min.   :1.504e+09   Length:940         Min.   :    0  \n",
       " 1st Qu.:2.320e+09   Class :character   1st Qu.: 3790  \n",
       " Median :4.445e+09   Mode  :character   Median : 7406  \n",
       " Mean   :4.855e+09                      Mean   : 7638  \n",
       " 3rd Qu.:6.962e+09                      3rd Qu.:10727  \n",
       " Max.   :8.878e+09                      Max.   :36019  "
      ]
     },
     "metadata": {},
     "output_type": "display_data"
    },
    {
     "name": "stdout",
     "output_type": "stream",
     "text": [
      "_____________________________________________________________\n",
      "\n"
     ]
    }
   ],
   "source": [
    "# Print a header and summary for daily_activity\n",
    "cat(\"\\t\\tDaily Activity\\n\\n\")\n",
    "summary(daily_activity)\n",
    "cat(\"_____________________________________________________________\\n\\n\")\n",
    "\n",
    "# Print a header and summary for sleep_data\n",
    "cat(\"\\t\\tSleep Data\\n\\n\")\n",
    "summary(sleep_data)\n",
    "cat(\"_____________________________________________________________\\n\\n\")\n",
    "\n",
    "# Print a header and summary for daily_calorie\n",
    "cat(\"\\t\\tDaily Calorie\\n\\n\")\n",
    "summary(daily_calorie)\n",
    "cat(\"_____________________________________________________________\\n\\n\")\n",
    "\n",
    "# Print a header and summary for daily_intensity\n",
    "cat(\"\\t\\tDaily Intensity\\n\\n\")\n",
    "summary(daily_intensity)\n",
    "cat(\"_____________________________________________________________\\n\\n\")\n",
    "\n",
    "# Print a header and summary for heart_rate\n",
    "cat(\"\\t\\tHeart Rate\\n\\n\")\n",
    "summary(heart_rate)\n",
    "cat(\"_____________________________________________________________\\n\\n\")\n",
    "\n",
    "# Print a header and summary for daily_step\n",
    "cat(\"\\t\\tDaily Step\\n\\n\")\n",
    "summary(daily_step)\n",
    "cat(\"_____________________________________________________________\\n\\n\")\n"
   ]
  },
  {
   "cell_type": "markdown",
   "id": "e6c881f5",
   "metadata": {},
   "source": [
    "---\n",
    "#### Data cleaning\n",
    "----"
   ]
  },
  {
   "cell_type": "code",
   "execution_count": 10,
   "id": "504a14a2",
   "metadata": {},
   "outputs": [],
   "source": [
    "# Drop missing values like NA \n",
    "daily_activity <- daily_activity %>% drop_na()\n",
    "sleep_data <- sleep_data %>% drop_na()\n",
    "heart_rate <- heart_rate %>% drop_na()\n",
    "daily_calorie <- daily_calorie %>% drop_na()\n",
    "daily_intensity <- daily_intensity %>% drop_na()\n",
    "daily_step <- daily_step %>% drop_na()"
   ]
  },
  {
   "cell_type": "code",
   "execution_count": 11,
   "id": "1f3bd32d",
   "metadata": {},
   "outputs": [
    {
     "data": {
      "text/html": [
       "<style>\n",
       ".list-inline {list-style: none; margin:0; padding: 0}\n",
       ".list-inline>li {display: inline-block}\n",
       ".list-inline>li:not(:last-child)::after {content: \"\\00b7\"; padding: 0 .5ex}\n",
       "</style>\n",
       "<ol class=list-inline><li>'id'</li><li>'activitydate'</li><li>'totalsteps'</li><li>'totaldistance'</li><li>'trackerdistance'</li><li>'loggedactivitiesdistance'</li><li>'veryactivedistance'</li><li>'moderatelyactivedistance'</li><li>'lightactivedistance'</li><li>'sedentaryactivedistance'</li><li>'veryactiveminutes'</li><li>'fairlyactiveminutes'</li><li>'lightlyactiveminutes'</li><li>'sedentaryminutes'</li><li>'calories'</li></ol>\n"
      ],
      "text/latex": [
       "\\begin{enumerate*}\n",
       "\\item 'id'\n",
       "\\item 'activitydate'\n",
       "\\item 'totalsteps'\n",
       "\\item 'totaldistance'\n",
       "\\item 'trackerdistance'\n",
       "\\item 'loggedactivitiesdistance'\n",
       "\\item 'veryactivedistance'\n",
       "\\item 'moderatelyactivedistance'\n",
       "\\item 'lightactivedistance'\n",
       "\\item 'sedentaryactivedistance'\n",
       "\\item 'veryactiveminutes'\n",
       "\\item 'fairlyactiveminutes'\n",
       "\\item 'lightlyactiveminutes'\n",
       "\\item 'sedentaryminutes'\n",
       "\\item 'calories'\n",
       "\\end{enumerate*}\n"
      ],
      "text/markdown": [
       "1. 'id'\n",
       "2. 'activitydate'\n",
       "3. 'totalsteps'\n",
       "4. 'totaldistance'\n",
       "5. 'trackerdistance'\n",
       "6. 'loggedactivitiesdistance'\n",
       "7. 'veryactivedistance'\n",
       "8. 'moderatelyactivedistance'\n",
       "9. 'lightactivedistance'\n",
       "10. 'sedentaryactivedistance'\n",
       "11. 'veryactiveminutes'\n",
       "12. 'fairlyactiveminutes'\n",
       "13. 'lightlyactiveminutes'\n",
       "14. 'sedentaryminutes'\n",
       "15. 'calories'\n",
       "\n",
       "\n"
      ],
      "text/plain": [
       " [1] \"id\"                       \"activitydate\"            \n",
       " [3] \"totalsteps\"               \"totaldistance\"           \n",
       " [5] \"trackerdistance\"          \"loggedactivitiesdistance\"\n",
       " [7] \"veryactivedistance\"       \"moderatelyactivedistance\"\n",
       " [9] \"lightactivedistance\"      \"sedentaryactivedistance\" \n",
       "[11] \"veryactiveminutes\"        \"fairlyactiveminutes\"     \n",
       "[13] \"lightlyactiveminutes\"     \"sedentaryminutes\"        \n",
       "[15] \"calories\"                "
      ]
     },
     "metadata": {},
     "output_type": "display_data"
    },
    {
     "data": {
      "text/html": [
       "<style>\n",
       ".list-inline {list-style: none; margin:0; padding: 0}\n",
       ".list-inline>li {display: inline-block}\n",
       ".list-inline>li:not(:last-child)::after {content: \"\\00b7\"; padding: 0 .5ex}\n",
       "</style>\n",
       "<ol class=list-inline><li>'id'</li><li>'activityday'</li><li>'calories'</li></ol>\n"
      ],
      "text/latex": [
       "\\begin{enumerate*}\n",
       "\\item 'id'\n",
       "\\item 'activityday'\n",
       "\\item 'calories'\n",
       "\\end{enumerate*}\n"
      ],
      "text/markdown": [
       "1. 'id'\n",
       "2. 'activityday'\n",
       "3. 'calories'\n",
       "\n",
       "\n"
      ],
      "text/plain": [
       "[1] \"id\"          \"activityday\" \"calories\"   "
      ]
     },
     "metadata": {},
     "output_type": "display_data"
    },
    {
     "data": {
      "text/html": [
       "<style>\n",
       ".list-inline {list-style: none; margin:0; padding: 0}\n",
       ".list-inline>li {display: inline-block}\n",
       ".list-inline>li:not(:last-child)::after {content: \"\\00b7\"; padding: 0 .5ex}\n",
       "</style>\n",
       "<ol class=list-inline><li>'id'</li><li>'activityday'</li><li>'sedentaryminutes'</li><li>'lightlyactiveminutes'</li><li>'fairlyactiveminutes'</li><li>'veryactiveminutes'</li><li>'sedentaryactivedistance'</li><li>'lightactivedistance'</li><li>'moderatelyactivedistance'</li><li>'veryactivedistance'</li></ol>\n"
      ],
      "text/latex": [
       "\\begin{enumerate*}\n",
       "\\item 'id'\n",
       "\\item 'activityday'\n",
       "\\item 'sedentaryminutes'\n",
       "\\item 'lightlyactiveminutes'\n",
       "\\item 'fairlyactiveminutes'\n",
       "\\item 'veryactiveminutes'\n",
       "\\item 'sedentaryactivedistance'\n",
       "\\item 'lightactivedistance'\n",
       "\\item 'moderatelyactivedistance'\n",
       "\\item 'veryactivedistance'\n",
       "\\end{enumerate*}\n"
      ],
      "text/markdown": [
       "1. 'id'\n",
       "2. 'activityday'\n",
       "3. 'sedentaryminutes'\n",
       "4. 'lightlyactiveminutes'\n",
       "5. 'fairlyactiveminutes'\n",
       "6. 'veryactiveminutes'\n",
       "7. 'sedentaryactivedistance'\n",
       "8. 'lightactivedistance'\n",
       "9. 'moderatelyactivedistance'\n",
       "10. 'veryactivedistance'\n",
       "\n",
       "\n"
      ],
      "text/plain": [
       " [1] \"id\"                       \"activityday\"             \n",
       " [3] \"sedentaryminutes\"         \"lightlyactiveminutes\"    \n",
       " [5] \"fairlyactiveminutes\"      \"veryactiveminutes\"       \n",
       " [7] \"sedentaryactivedistance\"  \"lightactivedistance\"     \n",
       " [9] \"moderatelyactivedistance\" \"veryactivedistance\"      "
      ]
     },
     "metadata": {},
     "output_type": "display_data"
    },
    {
     "data": {
      "text/html": [
       "<style>\n",
       ".list-inline {list-style: none; margin:0; padding: 0}\n",
       ".list-inline>li {display: inline-block}\n",
       ".list-inline>li:not(:last-child)::after {content: \"\\00b7\"; padding: 0 .5ex}\n",
       "</style>\n",
       "<ol class=list-inline><li>'id'</li><li>'activityday'</li><li>'steptotal'</li></ol>\n"
      ],
      "text/latex": [
       "\\begin{enumerate*}\n",
       "\\item 'id'\n",
       "\\item 'activityday'\n",
       "\\item 'steptotal'\n",
       "\\end{enumerate*}\n"
      ],
      "text/markdown": [
       "1. 'id'\n",
       "2. 'activityday'\n",
       "3. 'steptotal'\n",
       "\n",
       "\n"
      ],
      "text/plain": [
       "[1] \"id\"          \"activityday\" \"steptotal\"  "
      ]
     },
     "metadata": {},
     "output_type": "display_data"
    },
    {
     "data": {
      "text/html": [
       "<style>\n",
       ".list-inline {list-style: none; margin:0; padding: 0}\n",
       ".list-inline>li {display: inline-block}\n",
       ".list-inline>li:not(:last-child)::after {content: \"\\00b7\"; padding: 0 .5ex}\n",
       "</style>\n",
       "<ol class=list-inline><li>'id'</li><li>'time'</li><li>'value'</li></ol>\n"
      ],
      "text/latex": [
       "\\begin{enumerate*}\n",
       "\\item 'id'\n",
       "\\item 'time'\n",
       "\\item 'value'\n",
       "\\end{enumerate*}\n"
      ],
      "text/markdown": [
       "1. 'id'\n",
       "2. 'time'\n",
       "3. 'value'\n",
       "\n",
       "\n"
      ],
      "text/plain": [
       "[1] \"id\"    \"time\"  \"value\""
      ]
     },
     "metadata": {},
     "output_type": "display_data"
    },
    {
     "data": {
      "text/html": [
       "<style>\n",
       ".list-inline {list-style: none; margin:0; padding: 0}\n",
       ".list-inline>li {display: inline-block}\n",
       ".list-inline>li:not(:last-child)::after {content: \"\\00b7\"; padding: 0 .5ex}\n",
       "</style>\n",
       "<ol class=list-inline><li>'id'</li><li>'sleepday'</li><li>'totalsleeprecords'</li><li>'totalminutesasleep'</li><li>'totaltimeinbed'</li></ol>\n"
      ],
      "text/latex": [
       "\\begin{enumerate*}\n",
       "\\item 'id'\n",
       "\\item 'sleepday'\n",
       "\\item 'totalsleeprecords'\n",
       "\\item 'totalminutesasleep'\n",
       "\\item 'totaltimeinbed'\n",
       "\\end{enumerate*}\n"
      ],
      "text/markdown": [
       "1. 'id'\n",
       "2. 'sleepday'\n",
       "3. 'totalsleeprecords'\n",
       "4. 'totalminutesasleep'\n",
       "5. 'totaltimeinbed'\n",
       "\n",
       "\n"
      ],
      "text/plain": [
       "[1] \"id\"                 \"sleepday\"           \"totalsleeprecords\" \n",
       "[4] \"totalminutesasleep\" \"totaltimeinbed\"    "
      ]
     },
     "metadata": {},
     "output_type": "display_data"
    }
   ],
   "source": [
    "# Make all column name in the same format\n",
    "colnames(daily_activity) <- tolower(gsub(\" \", \"_\", colnames(daily_activity)))\n",
    "colnames(sleep_data) <- tolower(gsub(\" \", \"_\", colnames(sleep_data)))\n",
    "colnames(daily_intensity) <- tolower(gsub(\" \", \"_\", colnames(daily_intensity)))\n",
    "colnames(heart_rate) <- tolower(gsub(\" \", \"_\", colnames(heart_rate)))\n",
    "colnames(daily_calorie) <- tolower(gsub(\" \", \"_\", colnames(daily_calorie)))\n",
    "colnames(daily_step) <- tolower(gsub(\" \", \"_\", colnames(daily_step)))\n",
    "\n",
    "# Display output\n",
    "colnames(daily_activity)\n",
    "colnames(daily_calorie)\n",
    "colnames(daily_intensity)\n",
    "colnames(daily_step)\n",
    "colnames(heart_rate)\n",
    "colnames(sleep_data)"
   ]
  },
  {
   "cell_type": "code",
   "execution_count": 12,
   "id": "e6e6578b",
   "metadata": {},
   "outputs": [],
   "source": [
    "# Standardize date format\n",
    "if (\"activityday\" %in% colnames(daily_activity)) {\n",
    "  daily_activity[[\"activityday\"]] <- as.Date(daily_activity[[\"activityday\"]], format=\"%m/%d/%Y\")\n",
    "}\n",
    "if (\"activityday\" %in% colnames(daily_calorie)) {\n",
    "  daily_calorie[[\"activityday\"]] <- as.Date(daily_calorie[[\"activityday\"]], format=\"%m/%d/%Y\")\n",
    "}\n",
    "if (\"activityday\" %in% colnames(daily_intensity)) {\n",
    "  daily_intensity[[\"activityday\"]] <- as.Date(daily_intensity[[\"activityday\"]], format=\"%m/%d/%Y\")\n",
    "}\n",
    "if (\"activityday\" %in% colnames(daily_step)) {\n",
    "  daily_step[[\"activityday\"]] <- as.Date(daily_step[[\"activityday\"]], format=\"%m/%d/%Y\")\n",
    "}\n",
    "if (\"sleepday\" %in% colnames(sleep_data)) {\n",
    "  sleep_data[[\"activityday\"]] <- as.Date(sleep_data[[\"sleepday\"]], format=\"%m/%d/%Y\")\n",
    "}\n",
    "if (\"time\" %in% colnames(heart_rate)) {\n",
    "  heart_rate[[\"activityday\"]] <- as.Date(heart_rate[[\"time\"]], format=\"%m/%d/%Y\")\n",
    "}"
   ]
  },
  {
   "cell_type": "code",
   "execution_count": 13,
   "id": "04fbb0be",
   "metadata": {},
   "outputs": [],
   "source": [
    "# Remove duplicate entries\n",
    "daily_activity <- daily_activity %>% distinct()\n",
    "daily_calorie <- daily_calorie %>% distinct()\n",
    "daily_intensity <- daily_intensity %>% distinct()\n",
    "daily_step <- daily_step %>% distinct()\n",
    "heart_rate <- heart_rate %>% distinct()\n",
    "sleep_data <- sleep_data %>% distinct()"
   ]
  },
  {
   "cell_type": "markdown",
   "id": "eee9fecd",
   "metadata": {},
   "source": [
    "---\n",
    "#### Data Integration\n",
    "---"
   ]
  },
  {
   "cell_type": "code",
   "execution_count": 14,
   "id": "f6b15b22",
   "metadata": {},
   "outputs": [
    {
     "data": {
      "text/html": [
       "<style>\n",
       ".list-inline {list-style: none; margin:0; padding: 0}\n",
       ".list-inline>li {display: inline-block}\n",
       ".list-inline>li:not(:last-child)::after {content: \"\\00b7\"; padding: 0 .5ex}\n",
       "</style>\n",
       "<ol class=list-inline><li>'id'</li><li>'activityday'</li><li>'totalsteps'</li><li>'totaldistance'</li><li>'trackerdistance'</li><li>'loggedactivitiesdistance'</li><li>'veryactivedistance'</li><li>'moderatelyactivedistance'</li><li>'lightactivedistance'</li><li>'sedentaryactivedistance'</li><li>'veryactiveminutes'</li><li>'fairlyactiveminutes'</li><li>'lightlyactiveminutes'</li><li>'sedentaryminutes'</li><li>'calories'</li></ol>\n"
      ],
      "text/latex": [
       "\\begin{enumerate*}\n",
       "\\item 'id'\n",
       "\\item 'activityday'\n",
       "\\item 'totalsteps'\n",
       "\\item 'totaldistance'\n",
       "\\item 'trackerdistance'\n",
       "\\item 'loggedactivitiesdistance'\n",
       "\\item 'veryactivedistance'\n",
       "\\item 'moderatelyactivedistance'\n",
       "\\item 'lightactivedistance'\n",
       "\\item 'sedentaryactivedistance'\n",
       "\\item 'veryactiveminutes'\n",
       "\\item 'fairlyactiveminutes'\n",
       "\\item 'lightlyactiveminutes'\n",
       "\\item 'sedentaryminutes'\n",
       "\\item 'calories'\n",
       "\\end{enumerate*}\n"
      ],
      "text/markdown": [
       "1. 'id'\n",
       "2. 'activityday'\n",
       "3. 'totalsteps'\n",
       "4. 'totaldistance'\n",
       "5. 'trackerdistance'\n",
       "6. 'loggedactivitiesdistance'\n",
       "7. 'veryactivedistance'\n",
       "8. 'moderatelyactivedistance'\n",
       "9. 'lightactivedistance'\n",
       "10. 'sedentaryactivedistance'\n",
       "11. 'veryactiveminutes'\n",
       "12. 'fairlyactiveminutes'\n",
       "13. 'lightlyactiveminutes'\n",
       "14. 'sedentaryminutes'\n",
       "15. 'calories'\n",
       "\n",
       "\n"
      ],
      "text/plain": [
       " [1] \"id\"                       \"activityday\"             \n",
       " [3] \"totalsteps\"               \"totaldistance\"           \n",
       " [5] \"trackerdistance\"          \"loggedactivitiesdistance\"\n",
       " [7] \"veryactivedistance\"       \"moderatelyactivedistance\"\n",
       " [9] \"lightactivedistance\"      \"sedentaryactivedistance\" \n",
       "[11] \"veryactiveminutes\"        \"fairlyactiveminutes\"     \n",
       "[13] \"lightlyactiveminutes\"     \"sedentaryminutes\"        \n",
       "[15] \"calories\"                "
      ]
     },
     "metadata": {},
     "output_type": "display_data"
    },
    {
     "data": {
      "text/html": [
       "<style>\n",
       ".list-inline {list-style: none; margin:0; padding: 0}\n",
       ".list-inline>li {display: inline-block}\n",
       ".list-inline>li:not(:last-child)::after {content: \"\\00b7\"; padding: 0 .5ex}\n",
       "</style>\n",
       "<ol class=list-inline><li>'id'</li><li>'activityday'</li><li>'calories'</li></ol>\n"
      ],
      "text/latex": [
       "\\begin{enumerate*}\n",
       "\\item 'id'\n",
       "\\item 'activityday'\n",
       "\\item 'calories'\n",
       "\\end{enumerate*}\n"
      ],
      "text/markdown": [
       "1. 'id'\n",
       "2. 'activityday'\n",
       "3. 'calories'\n",
       "\n",
       "\n"
      ],
      "text/plain": [
       "[1] \"id\"          \"activityday\" \"calories\"   "
      ]
     },
     "metadata": {},
     "output_type": "display_data"
    },
    {
     "data": {
      "text/html": [
       "<style>\n",
       ".list-inline {list-style: none; margin:0; padding: 0}\n",
       ".list-inline>li {display: inline-block}\n",
       ".list-inline>li:not(:last-child)::after {content: \"\\00b7\"; padding: 0 .5ex}\n",
       "</style>\n",
       "<ol class=list-inline><li>'id'</li><li>'activityday'</li><li>'sedentaryminutes'</li><li>'lightlyactiveminutes'</li><li>'fairlyactiveminutes'</li><li>'veryactiveminutes'</li><li>'sedentaryactivedistance'</li><li>'lightactivedistance'</li><li>'moderatelyactivedistance'</li><li>'veryactivedistance'</li></ol>\n"
      ],
      "text/latex": [
       "\\begin{enumerate*}\n",
       "\\item 'id'\n",
       "\\item 'activityday'\n",
       "\\item 'sedentaryminutes'\n",
       "\\item 'lightlyactiveminutes'\n",
       "\\item 'fairlyactiveminutes'\n",
       "\\item 'veryactiveminutes'\n",
       "\\item 'sedentaryactivedistance'\n",
       "\\item 'lightactivedistance'\n",
       "\\item 'moderatelyactivedistance'\n",
       "\\item 'veryactivedistance'\n",
       "\\end{enumerate*}\n"
      ],
      "text/markdown": [
       "1. 'id'\n",
       "2. 'activityday'\n",
       "3. 'sedentaryminutes'\n",
       "4. 'lightlyactiveminutes'\n",
       "5. 'fairlyactiveminutes'\n",
       "6. 'veryactiveminutes'\n",
       "7. 'sedentaryactivedistance'\n",
       "8. 'lightactivedistance'\n",
       "9. 'moderatelyactivedistance'\n",
       "10. 'veryactivedistance'\n",
       "\n",
       "\n"
      ],
      "text/plain": [
       " [1] \"id\"                       \"activityday\"             \n",
       " [3] \"sedentaryminutes\"         \"lightlyactiveminutes\"    \n",
       " [5] \"fairlyactiveminutes\"      \"veryactiveminutes\"       \n",
       " [7] \"sedentaryactivedistance\"  \"lightactivedistance\"     \n",
       " [9] \"moderatelyactivedistance\" \"veryactivedistance\"      "
      ]
     },
     "metadata": {},
     "output_type": "display_data"
    },
    {
     "data": {
      "text/html": [
       "<style>\n",
       ".list-inline {list-style: none; margin:0; padding: 0}\n",
       ".list-inline>li {display: inline-block}\n",
       ".list-inline>li:not(:last-child)::after {content: \"\\00b7\"; padding: 0 .5ex}\n",
       "</style>\n",
       "<ol class=list-inline><li>'id'</li><li>'activityday'</li><li>'steptotal'</li></ol>\n"
      ],
      "text/latex": [
       "\\begin{enumerate*}\n",
       "\\item 'id'\n",
       "\\item 'activityday'\n",
       "\\item 'steptotal'\n",
       "\\end{enumerate*}\n"
      ],
      "text/markdown": [
       "1. 'id'\n",
       "2. 'activityday'\n",
       "3. 'steptotal'\n",
       "\n",
       "\n"
      ],
      "text/plain": [
       "[1] \"id\"          \"activityday\" \"steptotal\"  "
      ]
     },
     "metadata": {},
     "output_type": "display_data"
    },
    {
     "data": {
      "text/html": [
       "<style>\n",
       ".list-inline {list-style: none; margin:0; padding: 0}\n",
       ".list-inline>li {display: inline-block}\n",
       ".list-inline>li:not(:last-child)::after {content: \"\\00b7\"; padding: 0 .5ex}\n",
       "</style>\n",
       "<ol class=list-inline><li>'id'</li><li>'activityday'</li><li>'value'</li><li>'activityday'</li></ol>\n"
      ],
      "text/latex": [
       "\\begin{enumerate*}\n",
       "\\item 'id'\n",
       "\\item 'activityday'\n",
       "\\item 'value'\n",
       "\\item 'activityday'\n",
       "\\end{enumerate*}\n"
      ],
      "text/markdown": [
       "1. 'id'\n",
       "2. 'activityday'\n",
       "3. 'value'\n",
       "4. 'activityday'\n",
       "\n",
       "\n"
      ],
      "text/plain": [
       "[1] \"id\"          \"activityday\" \"value\"       \"activityday\""
      ]
     },
     "metadata": {},
     "output_type": "display_data"
    },
    {
     "data": {
      "text/html": [
       "<style>\n",
       ".list-inline {list-style: none; margin:0; padding: 0}\n",
       ".list-inline>li {display: inline-block}\n",
       ".list-inline>li:not(:last-child)::after {content: \"\\00b7\"; padding: 0 .5ex}\n",
       "</style>\n",
       "<ol class=list-inline><li>'id'</li><li>'sleepday'</li><li>'totalsleeprecords'</li><li>'totalminutesasleep'</li><li>'totaltimeinbed'</li><li>'activityday'</li></ol>\n"
      ],
      "text/latex": [
       "\\begin{enumerate*}\n",
       "\\item 'id'\n",
       "\\item 'sleepday'\n",
       "\\item 'totalsleeprecords'\n",
       "\\item 'totalminutesasleep'\n",
       "\\item 'totaltimeinbed'\n",
       "\\item 'activityday'\n",
       "\\end{enumerate*}\n"
      ],
      "text/markdown": [
       "1. 'id'\n",
       "2. 'sleepday'\n",
       "3. 'totalsleeprecords'\n",
       "4. 'totalminutesasleep'\n",
       "5. 'totaltimeinbed'\n",
       "6. 'activityday'\n",
       "\n",
       "\n"
      ],
      "text/plain": [
       "[1] \"id\"                 \"sleepday\"           \"totalsleeprecords\" \n",
       "[4] \"totalminutesasleep\" \"totaltimeinbed\"     \"activityday\"       "
      ]
     },
     "metadata": {},
     "output_type": "display_data"
    }
   ],
   "source": [
    "colnames(daily_activity)[colnames(daily_activity) == \"activitydate\"] <- \"activityday\"\n",
    "colnames(daily_calorie)[colnames(daily_calorie) == \"activityday\"] <- \"activityday\"\n",
    "colnames(daily_intensity)[colnames(daily_intensity) == \"activityday\"] <- \"activityday\"\n",
    "colnames(daily_step)[colnames(daily_step) == \"activityday\"] <- \"activityday\"\n",
    "colnames(heart_rate)[colnames(heart_rate) == \"time\"] <- \"activityday\"\n",
    "colnames(sleep_data)[colnames(sleep_data) == \"activityday\"] <- \"activityday\"\n",
    "\n",
    "# Display output\n",
    "colnames(daily_activity)\n",
    "colnames(daily_calorie)\n",
    "colnames(daily_intensity)\n",
    "colnames(daily_step)\n",
    "colnames(heart_rate)\n",
    "colnames(sleep_data)"
   ]
  },
  {
   "cell_type": "code",
   "execution_count": 15,
   "id": "67bd22c9",
   "metadata": {},
   "outputs": [],
   "source": [
    "# Last Minute Clean up\n",
    "\n",
    "# For some reason daily_activity and heart rate activityday format is chr so have to change to date\n",
    "daily_activity$activityday <- as.Date(daily_activity$activityday, format = \"%m/%d/%Y\")\n",
    "heart_rate$activityday <- as.Date(heart_rate$activityday, format = \"%m/%d/%Y\")\n",
    "\n",
    "# Rename duplicate columns in heart_rate and sleep_data\n",
    "colnames(heart_rate)[which(colnames(heart_rate) == \"activityday\")[2]] <- \"time\"\n",
    "colnames(sleep_data)[which(colnames(sleep_data) == \"activityday\")[2]] <- \"activityday_sleep\""
   ]
  },
  {
   "cell_type": "markdown",
   "id": "4cbe1624",
   "metadata": {},
   "source": [
    "---\n",
    "#### Merge data incrementally\n",
    "---"
   ]
  },
  {
   "cell_type": "code",
   "execution_count": 16,
   "id": "bd2c5b33",
   "metadata": {},
   "outputs": [],
   "source": [
    "# Merge Daily Calorie\n",
    "merged_data <- daily_activity %>%\n",
    "  left_join(daily_calorie, by = c(\"id\", \"activityday\"))"
   ]
  },
  {
   "cell_type": "code",
   "execution_count": 17,
   "id": "960d3a80",
   "metadata": {},
   "outputs": [],
   "source": [
    "# Merge Daily Intensity\n",
    "merged_data <- merged_data %>%\n",
    "  left_join(daily_intensity, by = c(\"id\", \"activityday\"))"
   ]
  },
  {
   "cell_type": "code",
   "execution_count": 18,
   "id": "eee10851",
   "metadata": {},
   "outputs": [],
   "source": [
    "# Merge Daily Step\n",
    "merged_data <- merged_data %>%\n",
    "  left_join(daily_step, by = c(\"id\", \"activityday\"))"
   ]
  },
  {
   "cell_type": "code",
   "execution_count": 19,
   "id": "69994ecc",
   "metadata": {},
   "outputs": [
    {
     "name": "stderr",
     "output_type": "stream",
     "text": [
      "\u001b[1m\u001b[22m`summarise()` has grouped output by 'id'. You can override using the `.groups` argument.\n"
     ]
    }
   ],
   "source": [
    "# Merge Heart Rate\n",
    "# (ignoring 'time' column here since it's a daily aggregation)\n",
    "heart_rate_daily <- heart_rate %>%\n",
    "  filter(!is.na(value)) %>%             # Remove NA values if there are any\n",
    "  group_by(id, activityday) %>%\n",
    "  summarize(avg_heart_rate = mean(value, na.rm = TRUE)) %>%\n",
    "  ungroup()\n",
    "\n",
    "# Join heart_rate after aggregation\n",
    "merged_data <- merged_data %>%\n",
    "  left_join(heart_rate_daily, by = c(\"id\", \"activityday\"))\n",
    "\n",
    "# Safety precaution\n",
    "merged_data <- merged_data %>%\n",
    "  mutate(avg_heart_rate = ifelse(is.na(avg_heart_rate), mean(avg_heart_rate, na.rm = TRUE), avg_heart_rate))"
   ]
  },
  {
   "cell_type": "code",
   "execution_count": 20,
   "id": "75206424",
   "metadata": {},
   "outputs": [],
   "source": [
    "# Merge Sleep Data\n",
    "\n",
    "merged_data <- merged_data %>%\n",
    "  left_join(sleep_data, by = c(\"id\", \"activityday\"))"
   ]
  },
  {
   "cell_type": "code",
   "execution_count": 21,
   "id": "e6b75b07",
   "metadata": {},
   "outputs": [
    {
     "name": "stdout",
     "output_type": "stream",
     "text": [
      "'data.frame':\t940 obs. of  30 variables:\n",
      " $ id                        : num  1.5e+09 1.5e+09 1.5e+09 1.5e+09 1.5e+09 ...\n",
      " $ activityday               : Date, format: \"2016-04-12\" \"2016-04-13\" ...\n",
      " $ totalsteps                : int  13162 10735 10460 9762 12669 9705 13019 15506 10544 9819 ...\n",
      " $ totaldistance             : num  8.5 6.97 6.74 6.28 8.16 ...\n",
      " $ trackerdistance           : num  8.5 6.97 6.74 6.28 8.16 ...\n",
      " $ loggedactivitiesdistance  : num  0 0 0 0 0 0 0 0 0 0 ...\n",
      " $ veryactivedistance.x      : num  1.88 1.57 2.44 2.14 2.71 ...\n",
      " $ moderatelyactivedistance.x: num  0.55 0.69 0.4 1.26 0.41 ...\n",
      " $ lightactivedistance.x     : num  6.06 4.71 3.91 2.83 5.04 ...\n",
      " $ sedentaryactivedistance.x : num  0 0 0 0 0 0 0 0 0 0 ...\n",
      " $ veryactiveminutes.x       : int  25 21 30 29 36 38 42 50 28 19 ...\n",
      " $ fairlyactiveminutes.x     : int  13 19 11 34 10 20 16 31 12 8 ...\n",
      " $ lightlyactiveminutes.x    : int  328 217 181 209 221 164 233 264 205 211 ...\n",
      " $ sedentaryminutes.x        : int  728 776 1218 726 773 539 1149 775 818 838 ...\n",
      " $ calories.x                : int  1985 1797 1776 1745 1863 1728 1921 2035 1786 1775 ...\n",
      " $ calories.y                : int  1985 1797 1776 1745 1863 1728 1921 2035 1786 1775 ...\n",
      " $ sedentaryminutes.y        : int  728 776 1218 726 773 539 1149 775 818 838 ...\n",
      " $ lightlyactiveminutes.y    : int  328 217 181 209 221 164 233 264 205 211 ...\n",
      " $ fairlyactiveminutes.y     : int  13 19 11 34 10 20 16 31 12 8 ...\n",
      " $ veryactiveminutes.y       : int  25 21 30 29 36 38 42 50 28 19 ...\n",
      " $ sedentaryactivedistance.y : num  0 0 0 0 0 0 0 0 0 0 ...\n",
      " $ lightactivedistance.y     : num  6.06 4.71 3.91 2.83 5.04 ...\n",
      " $ moderatelyactivedistance.y: num  0.55 0.69 0.4 1.26 0.41 ...\n",
      " $ veryactivedistance.y      : num  1.88 1.57 2.44 2.14 2.71 ...\n",
      " $ steptotal                 : int  13162 10735 10460 9762 12669 9705 13019 15506 10544 9819 ...\n",
      " $ avg_heart_rate            : num  78.6 78.6 78.6 78.6 78.6 ...\n",
      " $ sleepday                  : chr  \"4/12/2016 12:00:00 AM\" \"4/13/2016 12:00:00 AM\" NA \"4/15/2016 12:00:00 AM\" ...\n",
      " $ totalsleeprecords         : int  1 2 NA 1 2 1 NA 1 1 1 ...\n",
      " $ totalminutesasleep        : int  327 384 NA 412 340 700 NA 304 360 325 ...\n",
      " $ totaltimeinbed            : int  346 407 NA 442 367 712 NA 320 377 364 ...\n"
     ]
    }
   ],
   "source": [
    "# Display the structure of the final integrated dataset\n",
    "str(merged_data)"
   ]
  },
  {
   "cell_type": "markdown",
   "id": "53e3c852",
   "metadata": {},
   "source": [
    "---\n",
    "#### Write the data into a new csv file for further analysis\n",
    "---"
   ]
  },
  {
   "cell_type": "code",
   "execution_count": 22,
   "id": "cf6d76c2",
   "metadata": {},
   "outputs": [
    {
     "name": "stdout",
     "output_type": "stream",
     "text": [
      "Data cleaning and integration complete. Cleaned data saved as 'cleaned_integrated_data.csv'."
     ]
    }
   ],
   "source": [
    "write_csv(merged_data, \"cleaned_integrated_data.csv\")\n",
    "cat(\"Data cleaning and integration complete. Cleaned data saved as 'cleaned_integrated_data.csv'.\")"
   ]
  },
  {
   "cell_type": "code",
   "execution_count": null,
   "id": "e5876c91",
   "metadata": {},
   "outputs": [],
   "source": []
  }
 ],
 "metadata": {
  "kernelspec": {
   "display_name": "R",
   "language": "R",
   "name": "ir"
  },
  "language_info": {
   "codemirror_mode": "r",
   "file_extension": ".r",
   "mimetype": "text/x-r-source",
   "name": "R",
   "pygments_lexer": "r",
   "version": "4.4.1"
  }
 },
 "nbformat": 4,
 "nbformat_minor": 5
}
